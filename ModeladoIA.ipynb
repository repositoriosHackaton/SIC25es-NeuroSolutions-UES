{
  "nbformat": 4,
  "nbformat_minor": 0,
  "metadata": {
    "colab": {
      "provenance": [],
      "gpuType": "T4"
    },
    "kernelspec": {
      "name": "python3",
      "display_name": "Python 3"
    },
    "language_info": {
      "name": "python"
    },
    "accelerator": "GPU"
  },
  "cells": [
    {
      "cell_type": "code",
      "execution_count": 21,
      "metadata": {
        "id": "kMmjnnPyIMLU"
      },
      "outputs": [],
      "source": [
        "import os\n",
        "import numpy as np\n",
        "import pandas as pd\n",
        "import tensorflow as tf\n",
        "import matplotlib.pyplot as plt\n",
        "import seaborn as sns\n",
        "from sklearn.model_selection import train_test_split\n",
        "from sklearn.preprocessing import LabelEncoder\n",
        "from sklearn.utils.class_weight import compute_class_weight\n",
        "from tensorflow.keras.applications import EfficientNetB3\n",
        "from tensorflow.keras.applications.efficientnet import preprocess_input\n",
        "from tensorflow.keras.preprocessing.image import ImageDataGenerator\n",
        "from tensorflow.keras.models import Model\n",
        "from tensorflow.keras.layers import (Input, Dense, Dropout, GlobalAveragePooling2D,\n",
        "                                     BatchNormalization, LeakyReLU)\n",
        "from tensorflow.keras.optimizers import Adam\n",
        "from tensorflow.keras.callbacks import ModelCheckpoint, EarlyStopping, ReduceLROnPlateau\n",
        "import kagglehub\n",
        "from google.colab import files\n",
        "\n"
      ]
    },
    {
      "cell_type": "code",
      "source": [
        "dataset_path = kagglehub.dataset_download(\"benpalma25/data-ocular-neurosolution-ues\")\n",
        "print(\"Path to dataset files:\", dataset_path)\n",
        "\n",
        "\n",
        "base_path = os.path.join(dataset_path, 'archive')\n",
        "csv_path = os.path.join(base_path, 'final_full_df.csv')\n",
        "image_dir = os.path.join(base_path, 'ODIR-5K', 'ODIR-5K', 'Training Images')\n",
        "\n",
        "\n",
        "df = pd.read_csv(csv_path)\n",
        "df['full_path'] = df['ruta'].apply(lambda x: os.path.join(image_dir, x))\n",
        "df = df[df['full_path'].apply(os.path.exists)]\n",
        "\n",
        "print(\"Distribución inicial de clases:\")\n",
        "print(df['diagnostico'].value_counts())\n"
      ],
      "metadata": {
        "colab": {
          "base_uri": "https://localhost:8080/"
        },
        "id": "HQXnzowyJnXD",
        "outputId": "d2dcb0d1-9247-472e-ead2-e6d617708811"
      },
      "execution_count": 8,
      "outputs": [
        {
          "output_type": "stream",
          "name": "stdout",
          "text": [
            "Path to dataset files: /root/.cache/kagglehub/datasets/benpalma25/data-ocular-neurosolution-ues/versions/1\n",
            "Distribución inicial de clases:\n",
            "diagnostico\n",
            "normal fundus                                                              2816\n",
            "moderate non proliferative retinopathy                                      745\n",
            "dry age-related macular degeneration                                        475\n",
            "mild nonproliferative retinopathy                                           460\n",
            "severe nonproliferative retinopathy                                         342\n",
            "                                                                           ... \n",
            "laser spot，moderate non proliferative retinopathy，white vessel                1\n",
            "laser spot，white vessel，moderate non proliferative retinopathy                1\n",
            "myelinated nerve fibers，suspected glaucoma                                    1\n",
            "macular epiretinal membrane，post laser photocoagulation                       1\n",
            "cataract，myelinated nerve fibers，moderate non proliferative retinopathy       1\n",
            "Name: count, Length: 270, dtype: int64\n"
          ]
        }
      ]
    },
    {
      "cell_type": "code",
      "source": [
        "def group_small_classes(series, min_count=10):\n",
        "    class_counts = series.value_counts()\n",
        "    small_classes = class_counts[class_counts < min_count].index.tolist()\n",
        "    grouped_series = series.copy()\n",
        "    if small_classes:\n",
        "        grouped_series[grouped_series.isin(small_classes)] = 'Other'\n",
        "    return grouped_series\n",
        "\n",
        "df['grouped_diagnostico'] = group_small_classes(df['diagnostico'])\n",
        "print(\"\\nDistribución de clases tras agrupar:\")\n",
        "print(df['grouped_diagnostico'].value_counts())\n",
        "\n",
        "label_encoder = LabelEncoder()\n",
        "df['encoded_diagnostico'] = label_encoder.fit_transform(df['grouped_diagnostico'])\n",
        "\n",
        "X_train, X_val, y_train, y_val = train_test_split(df['full_path'].values, df['encoded_diagnostico'].values,\n",
        "                                                    stratify=df['encoded_diagnostico'].values,\n",
        "                                                    test_size=0.2, random_state=42)\n",
        "\n",
        "class_weights = compute_class_weight('balanced', classes=np.unique(y_train), y=y_train)\n",
        "class_weights = dict(enumerate(class_weights))"
      ],
      "metadata": {
        "colab": {
          "base_uri": "https://localhost:8080/"
        },
        "id": "kwB0VcgCJq8z",
        "outputId": "760b911f-b655-45de-c818-a202bcf6ef28"
      },
      "execution_count": 9,
      "outputs": [
        {
          "output_type": "stream",
          "name": "stdout",
          "text": [
            "\n",
            "Distribución de clases tras agrupar:\n",
            "grouped_diagnostico\n",
            "normal fundus                                                  2816\n",
            "moderate non proliferative retinopathy                          745\n",
            "Other                                                           712\n",
            "dry age-related macular degeneration                            475\n",
            "mild nonproliferative retinopathy                               460\n",
            "                                                               ... \n",
            "depigmentation of the retinal pigment epithelium                 10\n",
            "pigment epithelium proliferation                                 10\n",
            "proliferative diabetic retinopathy，hypertensive retinopathy      10\n",
            "moderate non proliferative retinopathy，pathological myopia       10\n",
            "dry age-related macular degeneration，diabetic retinopathy        10\n",
            "Name: count, Length: 68, dtype: int64\n"
          ]
        }
      ]
    },
    {
      "source": [
        "data_gen = ImageDataGenerator(rotation_range=30, width_shift_range=0.2, height_shift_range=0.2,\n",
        "                              horizontal_flip=True, zoom_range=0.2, rescale=1./255)\n",
        "\n",
        "IMG_SIZE = (160, 160)\n",
        "\n",
        "\n",
        "def load_and_preprocess_image(path, label):\n",
        "    image = tf.io.read_file(path)\n",
        "    image = tf.image.decode_jpeg(image, channels=3)\n",
        "    image = tf.image.resize(image, IMG_SIZE)\n",
        "    image = preprocess_input(image)\n",
        "    return image, label"
      ],
      "cell_type": "code",
      "metadata": {
        "id": "X4Q-llRyK8JQ"
      },
      "execution_count": 10,
      "outputs": []
    },
    {
      "source": [
        "BATCH_SIZE = 32\n",
        "\n",
        "train_dataset = tf.data.Dataset.from_tensor_slices((X_train, y_train))\n",
        "train_dataset = train_dataset.map(load_and_preprocess_image, num_parallel_calls=tf.data.AUTOTUNE)\n",
        "train_dataset = train_dataset.batch(BATCH_SIZE).prefetch(buffer_size=tf.data.AUTOTUNE)\n",
        "\n",
        "val_dataset = tf.data.Dataset.from_tensor_slices((X_val, y_val))\n",
        "val_dataset = val_dataset.map(load_and_preprocess_image, num_parallel_calls=tf.data.AUTOTUNE)\n",
        "val_dataset = val_dataset.batch(BATCH_SIZE).prefetch(buffer_size=tf.data.AUTOTUNE)"
      ],
      "cell_type": "code",
      "metadata": {
        "id": "rp47_IYPLE-R"
      },
      "execution_count": 11,
      "outputs": []
    },
    {
      "cell_type": "code",
      "source": [
        "base_model = EfficientNetB3(weights='imagenet', include_top=False, input_shape=(160, 160, 3))\n",
        "base_model.trainable = False\n",
        "\n",
        "inputs = Input(shape=(160, 160, 3))\n",
        "x = preprocess_input(inputs)\n",
        "x = base_model(x, training=False)\n",
        "x = GlobalAveragePooling2D()(x)\n",
        "x = BatchNormalization()(x)\n",
        "x = Dense(512)(x)\n",
        "x = LeakyReLU(alpha=0.1)(x)\n",
        "x = Dropout(0.5)(x)\n",
        "x = Dense(256)(x)\n",
        "x = LeakyReLU(alpha=0.1)(x)\n",
        "x = BatchNormalization()(x)\n",
        "x = Dropout(0.5)(x)\n",
        "outputs = Dense(len(label_encoder.classes_), activation='softmax')(x)\n",
        "\n",
        "model = Model(inputs, outputs)\n",
        "model.compile(optimizer=Adam(learning_rate=1e-4),\n",
        "              loss='sparse_categorical_crossentropy',\n",
        "              metrics=['accuracy'])\n"
      ],
      "metadata": {
        "colab": {
          "base_uri": "https://localhost:8080/"
        },
        "id": "MYU-b6NnJ6EW",
        "outputId": "9e9ce48c-3104-4cc8-d240-9b2c3102ead0"
      },
      "execution_count": 12,
      "outputs": [
        {
          "output_type": "stream",
          "name": "stderr",
          "text": [
            "/usr/local/lib/python3.11/dist-packages/keras/src/layers/activations/leaky_relu.py:41: UserWarning: Argument `alpha` is deprecated. Use `negative_slope` instead.\n",
            "  warnings.warn(\n"
          ]
        }
      ]
    },
    {
      "cell_type": "code",
      "source": [
        "checkpoint = ModelCheckpoint('best_model.h5', monitor='val_accuracy', save_best_only=True, mode='max')\n",
        "early_stopping = EarlyStopping(monitor='val_loss', patience=5, restore_best_weights=True)\n",
        "reduce_lr = ReduceLROnPlateau(monitor='val_loss', factor=0.5, patience=3, min_lr=1e-6)"
      ],
      "metadata": {
        "id": "BV0MIB9dJ-Oi"
      },
      "execution_count": 13,
      "outputs": []
    },
    {
      "cell_type": "code",
      "source": [
        "history = model.fit(train_dataset, validation_data=val_dataset, epochs=15,\n",
        "                    callbacks=[checkpoint, early_stopping, reduce_lr],\n",
        "                    class_weight=class_weights, verbose=1)\n"
      ],
      "metadata": {
        "colab": {
          "base_uri": "https://localhost:8080/"
        },
        "id": "VdXXoWLFKDpX",
        "outputId": "fe412c32-6ef8-43aa-d282-b4db6777b7de"
      },
      "execution_count": 14,
      "outputs": [
        {
          "output_type": "stream",
          "name": "stdout",
          "text": [
            "Epoch 1/15\n",
            "\u001b[1m236/236\u001b[0m \u001b[32m━━━━━━━━━━━━━━━━━━━━\u001b[0m\u001b[37m\u001b[0m \u001b[1m0s\u001b[0m 411ms/step - accuracy: 0.0108 - loss: 5.5000"
          ]
        },
        {
          "output_type": "stream",
          "name": "stderr",
          "text": [
            "WARNING:absl:You are saving your model as an HDF5 file via `model.save()` or `keras.saving.save_model(model)`. This file format is considered legacy. We recommend using instead the native Keras format, e.g. `model.save('my_model.keras')` or `keras.saving.save_model(model, 'my_model.keras')`. \n"
          ]
        },
        {
          "output_type": "stream",
          "name": "stdout",
          "text": [
            "\b\b\b\b\b\b\b\b\b\b\b\b\b\b\b\b\b\b\b\b\b\b\b\b\b\b\b\b\b\b\b\b\b\b\b\b\b\b\b\b\b\b\b\b\b\b\b\b\b\b\b\b\b\b\b\b\b\b\b\b\b\b\b\b\b\b\b\b\b\b\b\b\b\b\b\b\r\u001b[1m236/236\u001b[0m \u001b[32m━━━━━━━━━━━━━━━━━━━━\u001b[0m\u001b[37m\u001b[0m \u001b[1m178s\u001b[0m 571ms/step - accuracy: 0.0109 - loss: 5.4991 - val_accuracy: 0.0372 - val_loss: 4.1178 - learning_rate: 1.0000e-04\n",
            "Epoch 2/15\n",
            "\u001b[1m236/236\u001b[0m \u001b[32m━━━━━━━━━━━━━━━━━━━━\u001b[0m\u001b[37m\u001b[0m \u001b[1m0s\u001b[0m 334ms/step - accuracy: 0.0246 - loss: 4.6884"
          ]
        },
        {
          "output_type": "stream",
          "name": "stderr",
          "text": [
            "WARNING:absl:You are saving your model as an HDF5 file via `model.save()` or `keras.saving.save_model(model)`. This file format is considered legacy. We recommend using instead the native Keras format, e.g. `model.save('my_model.keras')` or `keras.saving.save_model(model, 'my_model.keras')`. \n"
          ]
        },
        {
          "output_type": "stream",
          "name": "stdout",
          "text": [
            "\b\b\b\b\b\b\b\b\b\b\b\b\b\b\b\b\b\b\b\b\b\b\b\b\b\b\b\b\b\b\b\b\b\b\b\b\b\b\b\b\b\b\b\b\b\b\b\b\b\b\b\b\b\b\b\b\b\b\b\b\b\b\b\b\b\b\b\b\b\b\b\b\b\b\b\b\r\u001b[1m236/236\u001b[0m \u001b[32m━━━━━━━━━━━━━━━━━━━━\u001b[0m\u001b[37m\u001b[0m \u001b[1m144s\u001b[0m 422ms/step - accuracy: 0.0247 - loss: 4.6878 - val_accuracy: 0.0621 - val_loss: 4.0851 - learning_rate: 1.0000e-04\n",
            "Epoch 3/15\n",
            "\u001b[1m236/236\u001b[0m \u001b[32m━━━━━━━━━━━━━━━━━━━━\u001b[0m\u001b[37m\u001b[0m \u001b[1m0s\u001b[0m 335ms/step - accuracy: 0.0325 - loss: 4.3007"
          ]
        },
        {
          "output_type": "stream",
          "name": "stderr",
          "text": [
            "WARNING:absl:You are saving your model as an HDF5 file via `model.save()` or `keras.saving.save_model(model)`. This file format is considered legacy. We recommend using instead the native Keras format, e.g. `model.save('my_model.keras')` or `keras.saving.save_model(model, 'my_model.keras')`. \n"
          ]
        },
        {
          "output_type": "stream",
          "name": "stdout",
          "text": [
            "\b\b\b\b\b\b\b\b\b\b\b\b\b\b\b\b\b\b\b\b\b\b\b\b\b\b\b\b\b\b\b\b\b\b\b\b\b\b\b\b\b\b\b\b\b\b\b\b\b\b\b\b\b\b\b\b\b\b\b\b\b\b\b\b\b\b\b\b\b\b\b\b\b\b\b\b\r\u001b[1m236/236\u001b[0m \u001b[32m━━━━━━━━━━━━━━━━━━━━\u001b[0m\u001b[37m\u001b[0m \u001b[1m143s\u001b[0m 425ms/step - accuracy: 0.0325 - loss: 4.3001 - val_accuracy: 0.0732 - val_loss: 4.0819 - learning_rate: 1.0000e-04\n",
            "Epoch 4/15\n",
            "\u001b[1m236/236\u001b[0m \u001b[32m━━━━━━━━━━━━━━━━━━━━\u001b[0m\u001b[37m\u001b[0m \u001b[1m0s\u001b[0m 331ms/step - accuracy: 0.0425 - loss: 3.8143"
          ]
        },
        {
          "output_type": "stream",
          "name": "stderr",
          "text": [
            "WARNING:absl:You are saving your model as an HDF5 file via `model.save()` or `keras.saving.save_model(model)`. This file format is considered legacy. We recommend using instead the native Keras format, e.g. `model.save('my_model.keras')` or `keras.saving.save_model(model, 'my_model.keras')`. \n"
          ]
        },
        {
          "output_type": "stream",
          "name": "stdout",
          "text": [
            "\b\b\b\b\b\b\b\b\b\b\b\b\b\b\b\b\b\b\b\b\b\b\b\b\b\b\b\b\b\b\b\b\b\b\b\b\b\b\b\b\b\b\b\b\b\b\b\b\b\b\b\b\b\b\b\b\b\b\b\b\b\b\b\b\b\b\b\b\b\b\b\b\b\b\b\b\r\u001b[1m236/236\u001b[0m \u001b[32m━━━━━━━━━━━━━━━━━━━━\u001b[0m\u001b[37m\u001b[0m \u001b[1m100s\u001b[0m 422ms/step - accuracy: 0.0425 - loss: 3.8141 - val_accuracy: 0.0849 - val_loss: 4.0592 - learning_rate: 1.0000e-04\n",
            "Epoch 5/15\n",
            "\u001b[1m236/236\u001b[0m \u001b[32m━━━━━━━━━━━━━━━━━━━━\u001b[0m\u001b[37m\u001b[0m \u001b[1m0s\u001b[0m 335ms/step - accuracy: 0.0533 - loss: 3.6702"
          ]
        },
        {
          "output_type": "stream",
          "name": "stderr",
          "text": [
            "WARNING:absl:You are saving your model as an HDF5 file via `model.save()` or `keras.saving.save_model(model)`. This file format is considered legacy. We recommend using instead the native Keras format, e.g. `model.save('my_model.keras')` or `keras.saving.save_model(model, 'my_model.keras')`. \n"
          ]
        },
        {
          "output_type": "stream",
          "name": "stdout",
          "text": [
            "\b\b\b\b\b\b\b\b\b\b\b\b\b\b\b\b\b\b\b\b\b\b\b\b\b\b\b\b\b\b\b\b\b\b\b\b\b\b\b\b\b\b\b\b\b\b\b\b\b\b\b\b\b\b\b\b\b\b\b\b\b\b\b\b\b\b\b\b\b\b\b\b\b\b\b\b\r\u001b[1m236/236\u001b[0m \u001b[32m━━━━━━━━━━━━━━━━━━━━\u001b[0m\u001b[37m\u001b[0m \u001b[1m100s\u001b[0m 425ms/step - accuracy: 0.0534 - loss: 3.6698 - val_accuracy: 0.0945 - val_loss: 4.0340 - learning_rate: 1.0000e-04\n",
            "Epoch 6/15\n",
            "\u001b[1m236/236\u001b[0m \u001b[32m━━━━━━━━━━━━━━━━━━━━\u001b[0m\u001b[37m\u001b[0m \u001b[1m0s\u001b[0m 335ms/step - accuracy: 0.0596 - loss: 3.4533"
          ]
        },
        {
          "output_type": "stream",
          "name": "stderr",
          "text": [
            "WARNING:absl:You are saving your model as an HDF5 file via `model.save()` or `keras.saving.save_model(model)`. This file format is considered legacy. We recommend using instead the native Keras format, e.g. `model.save('my_model.keras')` or `keras.saving.save_model(model, 'my_model.keras')`. \n"
          ]
        },
        {
          "output_type": "stream",
          "name": "stdout",
          "text": [
            "\b\b\b\b\b\b\b\b\b\b\b\b\b\b\b\b\b\b\b\b\b\b\b\b\b\b\b\b\b\b\b\b\b\b\b\b\b\b\b\b\b\b\b\b\b\b\b\b\b\b\b\b\b\b\b\b\b\b\b\b\b\b\b\b\b\b\b\b\b\b\b\b\b\b\b\b\r\u001b[1m236/236\u001b[0m \u001b[32m━━━━━━━━━━━━━━━━━━━━\u001b[0m\u001b[37m\u001b[0m \u001b[1m100s\u001b[0m 425ms/step - accuracy: 0.0596 - loss: 3.4528 - val_accuracy: 0.1019 - val_loss: 3.9921 - learning_rate: 1.0000e-04\n",
            "Epoch 7/15\n",
            "\u001b[1m236/236\u001b[0m \u001b[32m━━━━━━━━━━━━━━━━━━━━\u001b[0m\u001b[37m\u001b[0m \u001b[1m0s\u001b[0m 334ms/step - accuracy: 0.0682 - loss: 3.1300"
          ]
        },
        {
          "output_type": "stream",
          "name": "stderr",
          "text": [
            "WARNING:absl:You are saving your model as an HDF5 file via `model.save()` or `keras.saving.save_model(model)`. This file format is considered legacy. We recommend using instead the native Keras format, e.g. `model.save('my_model.keras')` or `keras.saving.save_model(model, 'my_model.keras')`. \n"
          ]
        },
        {
          "output_type": "stream",
          "name": "stdout",
          "text": [
            "\b\b\b\b\b\b\b\b\b\b\b\b\b\b\b\b\b\b\b\b\b\b\b\b\b\b\b\b\b\b\b\b\b\b\b\b\b\b\b\b\b\b\b\b\b\b\b\b\b\b\b\b\b\b\b\b\b\b\b\b\b\b\b\b\b\b\b\b\b\b\b\b\b\b\b\b\r\u001b[1m236/236\u001b[0m \u001b[32m━━━━━━━━━━━━━━━━━━━━\u001b[0m\u001b[37m\u001b[0m \u001b[1m100s\u001b[0m 425ms/step - accuracy: 0.0683 - loss: 3.1298 - val_accuracy: 0.1099 - val_loss: 3.9918 - learning_rate: 1.0000e-04\n",
            "Epoch 8/15\n",
            "\u001b[1m236/236\u001b[0m \u001b[32m━━━━━━━━━━━━━━━━━━━━\u001b[0m\u001b[37m\u001b[0m \u001b[1m0s\u001b[0m 334ms/step - accuracy: 0.0684 - loss: 3.0584"
          ]
        },
        {
          "output_type": "stream",
          "name": "stderr",
          "text": [
            "WARNING:absl:You are saving your model as an HDF5 file via `model.save()` or `keras.saving.save_model(model)`. This file format is considered legacy. We recommend using instead the native Keras format, e.g. `model.save('my_model.keras')` or `keras.saving.save_model(model, 'my_model.keras')`. \n"
          ]
        },
        {
          "output_type": "stream",
          "name": "stdout",
          "text": [
            "\b\b\b\b\b\b\b\b\b\b\b\b\b\b\b\b\b\b\b\b\b\b\b\b\b\b\b\b\b\b\b\b\b\b\b\b\b\b\b\b\b\b\b\b\b\b\b\b\b\b\b\b\b\b\b\b\b\b\b\b\b\b\b\b\b\b\b\b\b\b\b\b\b\b\b\b\r\u001b[1m236/236\u001b[0m \u001b[32m━━━━━━━━━━━━━━━━━━━━\u001b[0m\u001b[37m\u001b[0m \u001b[1m100s\u001b[0m 425ms/step - accuracy: 0.0685 - loss: 3.0581 - val_accuracy: 0.1221 - val_loss: 3.9296 - learning_rate: 1.0000e-04\n",
            "Epoch 9/15\n",
            "\u001b[1m236/236\u001b[0m \u001b[32m━━━━━━━━━━━━━━━━━━━━\u001b[0m\u001b[37m\u001b[0m \u001b[1m0s\u001b[0m 334ms/step - accuracy: 0.0774 - loss: 2.8543"
          ]
        },
        {
          "output_type": "stream",
          "name": "stderr",
          "text": [
            "WARNING:absl:You are saving your model as an HDF5 file via `model.save()` or `keras.saving.save_model(model)`. This file format is considered legacy. We recommend using instead the native Keras format, e.g. `model.save('my_model.keras')` or `keras.saving.save_model(model, 'my_model.keras')`. \n"
          ]
        },
        {
          "output_type": "stream",
          "name": "stdout",
          "text": [
            "\b\b\b\b\b\b\b\b\b\b\b\b\b\b\b\b\b\b\b\b\b\b\b\b\b\b\b\b\b\b\b\b\b\b\b\b\b\b\b\b\b\b\b\b\b\b\b\b\b\b\b\b\b\b\b\b\b\b\b\b\b\b\b\b\b\b\b\b\b\b\b\b\b\b\b\b\r\u001b[1m236/236\u001b[0m \u001b[32m━━━━━━━━━━━━━━━━━━━━\u001b[0m\u001b[37m\u001b[0m \u001b[1m100s\u001b[0m 424ms/step - accuracy: 0.0774 - loss: 2.8541 - val_accuracy: 0.1364 - val_loss: 3.8722 - learning_rate: 1.0000e-04\n",
            "Epoch 10/15\n",
            "\u001b[1m236/236\u001b[0m \u001b[32m━━━━━━━━━━━━━━━━━━━━\u001b[0m\u001b[37m\u001b[0m \u001b[1m0s\u001b[0m 333ms/step - accuracy: 0.0912 - loss: 2.7411"
          ]
        },
        {
          "output_type": "stream",
          "name": "stderr",
          "text": [
            "WARNING:absl:You are saving your model as an HDF5 file via `model.save()` or `keras.saving.save_model(model)`. This file format is considered legacy. We recommend using instead the native Keras format, e.g. `model.save('my_model.keras')` or `keras.saving.save_model(model, 'my_model.keras')`. \n"
          ]
        },
        {
          "output_type": "stream",
          "name": "stdout",
          "text": [
            "\b\b\b\b\b\b\b\b\b\b\b\b\b\b\b\b\b\b\b\b\b\b\b\b\b\b\b\b\b\b\b\b\b\b\b\b\b\b\b\b\b\b\b\b\b\b\b\b\b\b\b\b\b\b\b\b\b\b\b\b\b\b\b\b\b\b\b\b\b\b\b\b\b\b\b\b\r\u001b[1m236/236\u001b[0m \u001b[32m━━━━━━━━━━━━━━━━━━━━\u001b[0m\u001b[37m\u001b[0m \u001b[1m100s\u001b[0m 425ms/step - accuracy: 0.0913 - loss: 2.7407 - val_accuracy: 0.1433 - val_loss: 3.8382 - learning_rate: 1.0000e-04\n",
            "Epoch 11/15\n",
            "\u001b[1m236/236\u001b[0m \u001b[32m━━━━━━━━━━━━━━━━━━━━\u001b[0m\u001b[37m\u001b[0m \u001b[1m0s\u001b[0m 333ms/step - accuracy: 0.0928 - loss: 2.6428"
          ]
        },
        {
          "output_type": "stream",
          "name": "stderr",
          "text": [
            "WARNING:absl:You are saving your model as an HDF5 file via `model.save()` or `keras.saving.save_model(model)`. This file format is considered legacy. We recommend using instead the native Keras format, e.g. `model.save('my_model.keras')` or `keras.saving.save_model(model, 'my_model.keras')`. \n"
          ]
        },
        {
          "output_type": "stream",
          "name": "stdout",
          "text": [
            "\b\b\b\b\b\b\b\b\b\b\b\b\b\b\b\b\b\b\b\b\b\b\b\b\b\b\b\b\b\b\b\b\b\b\b\b\b\b\b\b\b\b\b\b\b\b\b\b\b\b\b\b\b\b\b\b\b\b\b\b\b\b\b\b\b\b\b\b\b\b\b\b\b\b\b\b\r\u001b[1m236/236\u001b[0m \u001b[32m━━━━━━━━━━━━━━━━━━━━\u001b[0m\u001b[37m\u001b[0m \u001b[1m100s\u001b[0m 424ms/step - accuracy: 0.0928 - loss: 2.6423 - val_accuracy: 0.1502 - val_loss: 3.7799 - learning_rate: 1.0000e-04\n",
            "Epoch 12/15\n",
            "\u001b[1m236/236\u001b[0m \u001b[32m━━━━━━━━━━━━━━━━━━━━\u001b[0m\u001b[37m\u001b[0m \u001b[1m141s\u001b[0m 420ms/step - accuracy: 0.1040 - loss: 2.4500 - val_accuracy: 0.1476 - val_loss: 3.7430 - learning_rate: 1.0000e-04\n",
            "Epoch 13/15\n",
            "\u001b[1m236/236\u001b[0m \u001b[32m━━━━━━━━━━━━━━━━━━━━\u001b[0m\u001b[37m\u001b[0m \u001b[1m0s\u001b[0m 335ms/step - accuracy: 0.1076 - loss: 2.4504"
          ]
        },
        {
          "output_type": "stream",
          "name": "stderr",
          "text": [
            "WARNING:absl:You are saving your model as an HDF5 file via `model.save()` or `keras.saving.save_model(model)`. This file format is considered legacy. We recommend using instead the native Keras format, e.g. `model.save('my_model.keras')` or `keras.saving.save_model(model, 'my_model.keras')`. \n"
          ]
        },
        {
          "output_type": "stream",
          "name": "stdout",
          "text": [
            "\b\b\b\b\b\b\b\b\b\b\b\b\b\b\b\b\b\b\b\b\b\b\b\b\b\b\b\b\b\b\b\b\b\b\b\b\b\b\b\b\b\b\b\b\b\b\b\b\b\b\b\b\b\b\b\b\b\b\b\b\b\b\b\b\b\b\b\b\b\b\b\b\b\b\b\b\r\u001b[1m236/236\u001b[0m \u001b[32m━━━━━━━━━━━━━━━━━━━━\u001b[0m\u001b[37m\u001b[0m \u001b[1m100s\u001b[0m 425ms/step - accuracy: 0.1077 - loss: 2.4501 - val_accuracy: 0.1603 - val_loss: 3.7152 - learning_rate: 1.0000e-04\n",
            "Epoch 14/15\n",
            "\u001b[1m236/236\u001b[0m \u001b[32m━━━━━━━━━━━━━━━━━━━━\u001b[0m\u001b[37m\u001b[0m \u001b[1m0s\u001b[0m 335ms/step - accuracy: 0.1153 - loss: 2.3264"
          ]
        },
        {
          "output_type": "stream",
          "name": "stderr",
          "text": [
            "WARNING:absl:You are saving your model as an HDF5 file via `model.save()` or `keras.saving.save_model(model)`. This file format is considered legacy. We recommend using instead the native Keras format, e.g. `model.save('my_model.keras')` or `keras.saving.save_model(model, 'my_model.keras')`. \n"
          ]
        },
        {
          "output_type": "stream",
          "name": "stdout",
          "text": [
            "\b\b\b\b\b\b\b\b\b\b\b\b\b\b\b\b\b\b\b\b\b\b\b\b\b\b\b\b\b\b\b\b\b\b\b\b\b\b\b\b\b\b\b\b\b\b\b\b\b\b\b\b\b\b\b\b\b\b\b\b\b\b\b\b\b\b\b\b\b\b\b\b\b\b\b\b\r\u001b[1m236/236\u001b[0m \u001b[32m━━━━━━━━━━━━━━━━━━━━\u001b[0m\u001b[37m\u001b[0m \u001b[1m100s\u001b[0m 425ms/step - accuracy: 0.1153 - loss: 2.3260 - val_accuracy: 0.1635 - val_loss: 3.6855 - learning_rate: 1.0000e-04\n",
            "Epoch 15/15\n",
            "\u001b[1m236/236\u001b[0m \u001b[32m━━━━━━━━━━━━━━━━━━━━\u001b[0m\u001b[37m\u001b[0m \u001b[1m0s\u001b[0m 344ms/step - accuracy: 0.1206 - loss: 2.2482"
          ]
        },
        {
          "output_type": "stream",
          "name": "stderr",
          "text": [
            "WARNING:absl:You are saving your model as an HDF5 file via `model.save()` or `keras.saving.save_model(model)`. This file format is considered legacy. We recommend using instead the native Keras format, e.g. `model.save('my_model.keras')` or `keras.saving.save_model(model, 'my_model.keras')`. \n"
          ]
        },
        {
          "output_type": "stream",
          "name": "stdout",
          "text": [
            "\b\b\b\b\b\b\b\b\b\b\b\b\b\b\b\b\b\b\b\b\b\b\b\b\b\b\b\b\b\b\b\b\b\b\b\b\b\b\b\b\b\b\b\b\b\b\b\b\b\b\b\b\b\b\b\b\b\b\b\b\b\b\b\b\b\b\b\b\b\b\b\b\b\b\b\b\r\u001b[1m236/236\u001b[0m \u001b[32m━━━━━━━━━━━━━━━━━━━━\u001b[0m\u001b[37m\u001b[0m \u001b[1m144s\u001b[0m 435ms/step - accuracy: 0.1206 - loss: 2.2481 - val_accuracy: 0.1789 - val_loss: 3.6309 - learning_rate: 1.0000e-04\n"
          ]
        }
      ]
    },
    {
      "cell_type": "code",
      "source": [
        "tf.keras.mixed_precision.set_global_policy('mixed_float16')\n",
        "base_model.trainable = True\n",
        "model.compile(optimizer=Adam(learning_rate=1e-5), loss='sparse_categorical_crossentropy', metrics=['accuracy'])\n",
        "history_finetune = model.fit(train_dataset, validation_data=val_dataset, epochs=20,\n",
        "                             callbacks=[checkpoint, early_stopping, reduce_lr],\n",
        "                             class_weight=class_weights, verbose=1)\n"
      ],
      "metadata": {
        "colab": {
          "base_uri": "https://localhost:8080/"
        },
        "id": "y85lSnHkKEXS",
        "outputId": "062ebdb7-3b07-44a8-8662-b4bfe669738e"
      },
      "execution_count": 15,
      "outputs": [
        {
          "output_type": "stream",
          "name": "stdout",
          "text": [
            "Epoch 1/20\n",
            "\u001b[1m236/236\u001b[0m \u001b[32m━━━━━━━━━━━━━━━━━━━━\u001b[0m\u001b[37m\u001b[0m \u001b[1m310s\u001b[0m 780ms/step - accuracy: 0.0164 - loss: 5.0620 - val_accuracy: 0.0446 - val_loss: 4.2014 - learning_rate: 1.0000e-05\n",
            "Epoch 2/20\n",
            "\u001b[1m236/236\u001b[0m \u001b[32m━━━━━━━━━━━━━━━━━━━━\u001b[0m\u001b[37m\u001b[0m \u001b[1m108s\u001b[0m 457ms/step - accuracy: 0.0193 - loss: 4.6777 - val_accuracy: 0.0504 - val_loss: 4.2018 - learning_rate: 1.0000e-05\n",
            "Epoch 3/20\n",
            "\u001b[1m236/236\u001b[0m \u001b[32m━━━━━━━━━━━━━━━━━━━━\u001b[0m\u001b[37m\u001b[0m \u001b[1m138s\u001b[0m 442ms/step - accuracy: 0.0256 - loss: 4.2035 - val_accuracy: 0.0605 - val_loss: 4.1498 - learning_rate: 1.0000e-05\n",
            "Epoch 4/20\n",
            "\u001b[1m236/236\u001b[0m \u001b[32m━━━━━━━━━━━━━━━━━━━━\u001b[0m\u001b[37m\u001b[0m \u001b[1m143s\u001b[0m 446ms/step - accuracy: 0.0348 - loss: 4.0828 - val_accuracy: 0.0711 - val_loss: 4.0987 - learning_rate: 1.0000e-05\n",
            "Epoch 5/20\n",
            "\u001b[1m236/236\u001b[0m \u001b[32m━━━━━━━━━━━━━━━━━━━━\u001b[0m\u001b[37m\u001b[0m \u001b[1m140s\u001b[0m 437ms/step - accuracy: 0.0409 - loss: 3.9033 - val_accuracy: 0.0791 - val_loss: 4.0654 - learning_rate: 1.0000e-05\n",
            "Epoch 6/20\n",
            "\u001b[1m236/236\u001b[0m \u001b[32m━━━━━━━━━━━━━━━━━━━━\u001b[0m\u001b[37m\u001b[0m \u001b[1m103s\u001b[0m 435ms/step - accuracy: 0.0413 - loss: 3.6637 - val_accuracy: 0.0860 - val_loss: 4.0275 - learning_rate: 1.0000e-05\n",
            "Epoch 7/20\n",
            "\u001b[1m236/236\u001b[0m \u001b[32m━━━━━━━━━━━━━━━━━━━━\u001b[0m\u001b[37m\u001b[0m \u001b[1m144s\u001b[0m 445ms/step - accuracy: 0.0489 - loss: 3.4329 - val_accuracy: 0.0876 - val_loss: 3.9972 - learning_rate: 1.0000e-05\n",
            "Epoch 8/20\n",
            "\u001b[1m236/236\u001b[0m \u001b[32m━━━━━━━━━━━━━━━━━━━━\u001b[0m\u001b[37m\u001b[0m \u001b[1m105s\u001b[0m 444ms/step - accuracy: 0.0571 - loss: 3.2082 - val_accuracy: 0.1003 - val_loss: 3.9630 - learning_rate: 1.0000e-05\n",
            "Epoch 9/20\n",
            "\u001b[1m236/236\u001b[0m \u001b[32m━━━━━━━━━━━━━━━━━━━━\u001b[0m\u001b[37m\u001b[0m \u001b[1m142s\u001b[0m 442ms/step - accuracy: 0.0633 - loss: 3.0879 - val_accuracy: 0.1099 - val_loss: 3.9254 - learning_rate: 1.0000e-05\n",
            "Epoch 10/20\n",
            "\u001b[1m236/236\u001b[0m \u001b[32m━━━━━━━━━━━━━━━━━━━━\u001b[0m\u001b[37m\u001b[0m \u001b[1m105s\u001b[0m 444ms/step - accuracy: 0.0632 - loss: 3.0032 - val_accuracy: 0.1088 - val_loss: 3.8946 - learning_rate: 1.0000e-05\n",
            "Epoch 11/20\n",
            "\u001b[1m236/236\u001b[0m \u001b[32m━━━━━━━━━━━━━━━━━━━━\u001b[0m\u001b[37m\u001b[0m \u001b[1m104s\u001b[0m 441ms/step - accuracy: 0.0775 - loss: 2.8167 - val_accuracy: 0.1205 - val_loss: 3.8683 - learning_rate: 1.0000e-05\n",
            "Epoch 12/20\n",
            "\u001b[1m236/236\u001b[0m \u001b[32m━━━━━━━━━━━━━━━━━━━━\u001b[0m\u001b[37m\u001b[0m \u001b[1m143s\u001b[0m 443ms/step - accuracy: 0.0821 - loss: 2.7342 - val_accuracy: 0.1348 - val_loss: 3.8418 - learning_rate: 1.0000e-05\n",
            "Epoch 13/20\n",
            "\u001b[1m236/236\u001b[0m \u001b[32m━━━━━━━━━━━━━━━━━━━━\u001b[0m\u001b[37m\u001b[0m \u001b[1m141s\u001b[0m 442ms/step - accuracy: 0.0858 - loss: 2.6061 - val_accuracy: 0.1354 - val_loss: 3.8271 - learning_rate: 1.0000e-05\n",
            "Epoch 14/20\n",
            "\u001b[1m236/236\u001b[0m \u001b[32m━━━━━━━━━━━━━━━━━━━━\u001b[0m\u001b[37m\u001b[0m \u001b[1m140s\u001b[0m 435ms/step - accuracy: 0.0946 - loss: 2.5293 - val_accuracy: 0.1401 - val_loss: 3.8037 - learning_rate: 1.0000e-05\n",
            "Epoch 15/20\n",
            "\u001b[1m236/236\u001b[0m \u001b[32m━━━━━━━━━━━━━━━━━━━━\u001b[0m\u001b[37m\u001b[0m \u001b[1m142s\u001b[0m 435ms/step - accuracy: 0.0931 - loss: 2.5353 - val_accuracy: 0.1412 - val_loss: 3.7735 - learning_rate: 1.0000e-05\n",
            "Epoch 16/20\n",
            "\u001b[1m236/236\u001b[0m \u001b[32m━━━━━━━━━━━━━━━━━━━━\u001b[0m\u001b[37m\u001b[0m \u001b[1m106s\u001b[0m 447ms/step - accuracy: 0.0964 - loss: 2.3304 - val_accuracy: 0.1454 - val_loss: 3.7570 - learning_rate: 1.0000e-05\n",
            "Epoch 17/20\n",
            "\u001b[1m236/236\u001b[0m \u001b[32m━━━━━━━━━━━━━━━━━━━━\u001b[0m\u001b[37m\u001b[0m \u001b[1m140s\u001b[0m 440ms/step - accuracy: 0.1014 - loss: 2.2436 - val_accuracy: 0.1545 - val_loss: 3.7328 - learning_rate: 1.0000e-05\n",
            "Epoch 18/20\n",
            "\u001b[1m236/236\u001b[0m \u001b[32m━━━━━━━━━━━━━━━━━━━━\u001b[0m\u001b[37m\u001b[0m \u001b[1m143s\u001b[0m 445ms/step - accuracy: 0.1102 - loss: 2.2115 - val_accuracy: 0.1545 - val_loss: 3.7146 - learning_rate: 1.0000e-05\n",
            "Epoch 19/20\n",
            "\u001b[1m236/236\u001b[0m \u001b[32m━━━━━━━━━━━━━━━━━━━━\u001b[0m\u001b[37m\u001b[0m \u001b[1m141s\u001b[0m 442ms/step - accuracy: 0.1127 - loss: 2.1482 - val_accuracy: 0.1592 - val_loss: 3.7049 - learning_rate: 1.0000e-05\n",
            "Epoch 20/20\n",
            "\u001b[1m236/236\u001b[0m \u001b[32m━━━━━━━━━━━━━━━━━━━━\u001b[0m\u001b[37m\u001b[0m \u001b[1m141s\u001b[0m 439ms/step - accuracy: 0.1270 - loss: 2.0123 - val_accuracy: 0.1614 - val_loss: 3.6850 - learning_rate: 1.0000e-05\n"
          ]
        }
      ]
    },
    {
      "cell_type": "code",
      "source": [
        "loss, accuracy = model.evaluate(val_dataset)\n",
        "print(f\"Precisión final: {accuracy:.4f}\")\n",
        "model.save('optimized_model.h5')\n",
        "files.download('optimized_model.h5')"
      ],
      "metadata": {
        "colab": {
          "base_uri": "https://localhost:8080/",
          "height": 89
        },
        "id": "v4AjTChNKJzB",
        "outputId": "33dd8011-9568-4738-eb40-fc054534a726"
      },
      "execution_count": 25,
      "outputs": [
        {
          "output_type": "stream",
          "name": "stdout",
          "text": [
            "\u001b[1m59/59\u001b[0m \u001b[32m━━━━━━━━━━━━━━━━━━━━\u001b[0m\u001b[37m\u001b[0m \u001b[1m20s\u001b[0m 338ms/step - accuracy: 0.1618 - loss: 3.6835\n"
          ]
        },
        {
          "output_type": "stream",
          "name": "stderr",
          "text": [
            "WARNING:absl:You are saving your model as an HDF5 file via `model.save()` or `keras.saving.save_model(model)`. This file format is considered legacy. We recommend using instead the native Keras format, e.g. `model.save('my_model.keras')` or `keras.saving.save_model(model, 'my_model.keras')`. \n"
          ]
        },
        {
          "output_type": "stream",
          "name": "stdout",
          "text": [
            "Precisión final: 0.1614\n"
          ]
        },
        {
          "output_type": "display_data",
          "data": {
            "text/plain": [
              "<IPython.core.display.Javascript object>"
            ],
            "application/javascript": [
              "\n",
              "    async function download(id, filename, size) {\n",
              "      if (!google.colab.kernel.accessAllowed) {\n",
              "        return;\n",
              "      }\n",
              "      const div = document.createElement('div');\n",
              "      const label = document.createElement('label');\n",
              "      label.textContent = `Downloading \"${filename}\": `;\n",
              "      div.appendChild(label);\n",
              "      const progress = document.createElement('progress');\n",
              "      progress.max = size;\n",
              "      div.appendChild(progress);\n",
              "      document.body.appendChild(div);\n",
              "\n",
              "      const buffers = [];\n",
              "      let downloaded = 0;\n",
              "\n",
              "      const channel = await google.colab.kernel.comms.open(id);\n",
              "      // Send a message to notify the kernel that we're ready.\n",
              "      channel.send({})\n",
              "\n",
              "      for await (const message of channel.messages) {\n",
              "        // Send a message to notify the kernel that we're ready.\n",
              "        channel.send({})\n",
              "        if (message.buffers) {\n",
              "          for (const buffer of message.buffers) {\n",
              "            buffers.push(buffer);\n",
              "            downloaded += buffer.byteLength;\n",
              "            progress.value = downloaded;\n",
              "          }\n",
              "        }\n",
              "      }\n",
              "      const blob = new Blob(buffers, {type: 'application/binary'});\n",
              "      const a = document.createElement('a');\n",
              "      a.href = window.URL.createObjectURL(blob);\n",
              "      a.download = filename;\n",
              "      div.appendChild(a);\n",
              "      a.click();\n",
              "      div.remove();\n",
              "    }\n",
              "  "
            ]
          },
          "metadata": {}
        },
        {
          "output_type": "display_data",
          "data": {
            "text/plain": [
              "<IPython.core.display.Javascript object>"
            ],
            "application/javascript": [
              "download(\"download_abb52614-a4f4-4f4e-9e7b-7f9da9209fea\", \"optimized_model.h5\", 141099000)"
            ]
          },
          "metadata": {}
        }
      ]
    },
    {
      "cell_type": "code",
      "source": [
        "print(\"\\nEnfermedades entrenadas:\")\n",
        "for i, class_name in enumerate(label_encoder.classes_):\n",
        "    print(f\"{i}: {class_name}\")\n"
      ],
      "metadata": {
        "colab": {
          "base_uri": "https://localhost:8080/"
        },
        "id": "AY14QCKnj6LU",
        "outputId": "3b6769dc-390b-4a90-e9eb-3620ee9f76c3"
      },
      "execution_count": 17,
      "outputs": [
        {
          "output_type": "stream",
          "name": "stdout",
          "text": [
            "\n",
            "Enfermedades entrenadas:\n",
            "0: Other\n",
            "1: branch retinal vein occlusion\n",
            "2: cataract\n",
            "3: cataract，lens dust\n",
            "4: cataract，moderate non proliferative retinopathy\n",
            "5: central retinal artery occlusion\n",
            "6: central retinal vein occlusion\n",
            "7: chorioretinal atrophy\n",
            "8: depigmentation of the retinal pigment epithelium\n",
            "9: diabetic retinopathy\n",
            "10: diabetic retinopathy，dry age-related macular degeneration\n",
            "11: drusen\n",
            "12: drusen，lens dust\n",
            "13: dry age-related macular degeneration\n",
            "14: dry age-related macular degeneration，diabetic retinopathy\n",
            "15: dry age-related macular degeneration，glaucoma\n",
            "16: epiretinal membrane\n",
            "17: epiretinal membrane over the macula\n",
            "18: epiretinal membrane，lens dust\n",
            "19: glaucoma\n",
            "20: glaucoma，diabetic retinopathy\n",
            "21: glaucoma，hypertensive retinopathy\n",
            "22: glaucoma，macular epiretinal membrane\n",
            "23: glaucoma，moderate non proliferative retinopathy\n",
            "24: hypertensive retinopathy\n",
            "25: laser spot，moderate non proliferative retinopathy\n",
            "26: lens dust，drusen\n",
            "27: lens dust，macular epiretinal membrane\n",
            "28: lens dust，normal fundus\n",
            "29: low image quality\n",
            "30: macular epiretinal membrane\n",
            "31: macular epiretinal membrane，lens dust\n",
            "32: macular epiretinal membrane，mild nonproliferative retinopathy\n",
            "33: macular epiretinal membrane，moderate non proliferative retinopathy\n",
            "34: maculopathy\n",
            "35: mild nonproliferative retinopathy\n",
            "36: mild nonproliferative retinopathy，epiretinal membrane\n",
            "37: mild nonproliferative retinopathy，hypertensive retinopathy\n",
            "38: mild nonproliferative retinopathy，macular epiretinal membrane\n",
            "39: moderate non proliferative retinopathy\n",
            "40: moderate non proliferative retinopathy，cataract\n",
            "41: moderate non proliferative retinopathy，epiretinal membrane\n",
            "42: moderate non proliferative retinopathy，hypertensive retinopathy\n",
            "43: moderate non proliferative retinopathy，laser spot\n",
            "44: moderate non proliferative retinopathy，macular epiretinal membrane\n",
            "45: moderate non proliferative retinopathy，myelinated nerve fibers\n",
            "46: moderate non proliferative retinopathy，pathological myopia\n",
            "47: myelinated nerve fibers\n",
            "48: normal fundus\n",
            "49: normal fundus，lens dust\n",
            "50: pathological myopia\n",
            "51: pigment epithelium proliferation\n",
            "52: proliferative diabetic retinopathy\n",
            "53: proliferative diabetic retinopathy，hypertensive retinopathy\n",
            "54: refractive media opacity\n",
            "55: retinal pigmentation\n",
            "56: retinitis pigmentosa\n",
            "57: severe nonproliferative retinopathy\n",
            "58: severe nonproliferative retinopathy，hypertensive retinopathy\n",
            "59: severe proliferative diabetic retinopathy\n",
            "60: spotted membranous change\n",
            "61: suspected glaucoma\n",
            "62: suspected glaucoma，drusen\n",
            "63: suspected glaucoma，moderate non proliferative retinopathy\n",
            "64: tessellated fundus\n",
            "65: tessellated fundus，peripapillary atrophy\n",
            "66: vitreous degeneration\n",
            "67: wet age-related macular degeneration\n"
          ]
        }
      ]
    }
  ]
}